{
 "cells": [
  {
   "cell_type": "markdown",
   "metadata": {},
   "source": [
    "### BURGER AND SHAKELAND_PROJECT"
   ]
  },
  {
   "cell_type": "markdown",
   "metadata": {},
   "source": [
    "#### PROBLEM STATEMENT \n",
    "- What is the most popular item at Burgers & Shakeland\n",
    "- Which location is the busiest? Does the answer to this question change throughout the day?\n",
    "- A combo meal consists of 1 Burger, 1 Fry, and either a drink or a shake. How many Combo meals were sold from the State Street location in April?\n",
    "\n",
    "- Bonus: some of the employees have been complaining about working long hours. Based only on the transaction data, can you tell if any employees are working more than a typical 8 hour shift?\n"
   ]
  },
  {
   "cell_type": "markdown",
   "metadata": {},
   "source": [
    "### TASK 1. LOADING AND UNDERSTANDING THE DATASET"
   ]
  },
  {
   "cell_type": "code",
   "execution_count": 156,
   "metadata": {},
   "outputs": [],
   "source": [
    "import pandas as pd\n",
    "import numpy as np\n",
    "import seaborn as sns\n",
    "import matplotlib.pyplot as plt\n",
    "import datetime"
   ]
  },
  {
   "cell_type": "code",
   "execution_count": 158,
   "metadata": {},
   "outputs": [
    {
     "data": {
      "text/html": [
       "<div>\n",
       "<style scoped>\n",
       "    .dataframe tbody tr th:only-of-type {\n",
       "        vertical-align: middle;\n",
       "    }\n",
       "\n",
       "    .dataframe tbody tr th {\n",
       "        vertical-align: top;\n",
       "    }\n",
       "\n",
       "    .dataframe thead th {\n",
       "        text-align: right;\n",
       "    }\n",
       "</style>\n",
       "<table border=\"1\" class=\"dataframe\">\n",
       "  <thead>\n",
       "    <tr style=\"text-align: right;\">\n",
       "      <th></th>\n",
       "      <th>Date</th>\n",
       "      <th>Time</th>\n",
       "      <th>Location</th>\n",
       "      <th>ItemID</th>\n",
       "      <th>Transaction EmployeeID</th>\n",
       "      <th>Employee Name</th>\n",
       "      <th>Item</th>\n",
       "      <th>Price</th>\n",
       "    </tr>\n",
       "  </thead>\n",
       "  <tbody>\n",
       "    <tr>\n",
       "      <th>0</th>\n",
       "      <td>1/17/2018</td>\n",
       "      <td>6:00:00 AM</td>\n",
       "      <td>Union Heights</td>\n",
       "      <td>2</td>\n",
       "      <td>101</td>\n",
       "      <td>Lebron James</td>\n",
       "      <td>Fry</td>\n",
       "      <td>0.99</td>\n",
       "    </tr>\n",
       "    <tr>\n",
       "      <th>1</th>\n",
       "      <td>4/6/2018</td>\n",
       "      <td>6:00:00 AM</td>\n",
       "      <td>Union Heights</td>\n",
       "      <td>2</td>\n",
       "      <td>102</td>\n",
       "      <td>Alec Pizza</td>\n",
       "      <td>Fry</td>\n",
       "      <td>0.99</td>\n",
       "    </tr>\n",
       "    <tr>\n",
       "      <th>2</th>\n",
       "      <td>1/30/2018</td>\n",
       "      <td>6:00:00 AM</td>\n",
       "      <td>Union Heights</td>\n",
       "      <td>4</td>\n",
       "      <td>102</td>\n",
       "      <td>Alec Pizza</td>\n",
       "      <td>Shake</td>\n",
       "      <td>1.99</td>\n",
       "    </tr>\n",
       "    <tr>\n",
       "      <th>3</th>\n",
       "      <td>4/10/2018</td>\n",
       "      <td>6:00:00 AM</td>\n",
       "      <td>State Street</td>\n",
       "      <td>2</td>\n",
       "      <td>106</td>\n",
       "      <td>Sheera Grayskull</td>\n",
       "      <td>Fry</td>\n",
       "      <td>0.99</td>\n",
       "    </tr>\n",
       "    <tr>\n",
       "      <th>4</th>\n",
       "      <td>3/28/2018</td>\n",
       "      <td>6:00:00 AM</td>\n",
       "      <td>Union Heights</td>\n",
       "      <td>4</td>\n",
       "      <td>102</td>\n",
       "      <td>Alec Pizza</td>\n",
       "      <td>Shake</td>\n",
       "      <td>1.99</td>\n",
       "    </tr>\n",
       "    <tr>\n",
       "      <th>...</th>\n",
       "      <td>...</td>\n",
       "      <td>...</td>\n",
       "      <td>...</td>\n",
       "      <td>...</td>\n",
       "      <td>...</td>\n",
       "      <td>...</td>\n",
       "      <td>...</td>\n",
       "      <td>...</td>\n",
       "    </tr>\n",
       "    <tr>\n",
       "      <th>28127</th>\n",
       "      <td>1/7/2018</td>\n",
       "      <td>11:00:00 PM</td>\n",
       "      <td>State Street</td>\n",
       "      <td>4</td>\n",
       "      <td>109</td>\n",
       "      <td>Mr. Peabody</td>\n",
       "      <td>Shake</td>\n",
       "      <td>1.99</td>\n",
       "    </tr>\n",
       "    <tr>\n",
       "      <th>28128</th>\n",
       "      <td>3/11/2018</td>\n",
       "      <td>11:00:00 PM</td>\n",
       "      <td>State Street</td>\n",
       "      <td>4</td>\n",
       "      <td>110</td>\n",
       "      <td>Mrs. Fancy Pants</td>\n",
       "      <td>Shake</td>\n",
       "      <td>1.99</td>\n",
       "    </tr>\n",
       "    <tr>\n",
       "      <th>28129</th>\n",
       "      <td>3/17/2018</td>\n",
       "      <td>11:00:00 PM</td>\n",
       "      <td>Union Heights</td>\n",
       "      <td>1</td>\n",
       "      <td>103</td>\n",
       "      <td>Alex Jones</td>\n",
       "      <td>Burger</td>\n",
       "      <td>2.79</td>\n",
       "    </tr>\n",
       "    <tr>\n",
       "      <th>28130</th>\n",
       "      <td>4/15/2018</td>\n",
       "      <td>11:00:00 PM</td>\n",
       "      <td>Union Heights</td>\n",
       "      <td>2</td>\n",
       "      <td>111</td>\n",
       "      <td>Hulk Hogan</td>\n",
       "      <td>Fry</td>\n",
       "      <td>0.99</td>\n",
       "    </tr>\n",
       "    <tr>\n",
       "      <th>28131</th>\n",
       "      <td>3/10/2018</td>\n",
       "      <td>11:00:00 PM</td>\n",
       "      <td>Union Heights</td>\n",
       "      <td>4</td>\n",
       "      <td>111</td>\n",
       "      <td>Hulk Hogan</td>\n",
       "      <td>Shake</td>\n",
       "      <td>1.99</td>\n",
       "    </tr>\n",
       "  </tbody>\n",
       "</table>\n",
       "<p>28132 rows × 8 columns</p>\n",
       "</div>"
      ],
      "text/plain": [
       "            Date         Time       Location  ItemID  Transaction EmployeeID  \\\n",
       "0      1/17/2018   6:00:00 AM  Union Heights       2                     101   \n",
       "1       4/6/2018   6:00:00 AM  Union Heights       2                     102   \n",
       "2      1/30/2018   6:00:00 AM  Union Heights       4                     102   \n",
       "3      4/10/2018   6:00:00 AM   State Street       2                     106   \n",
       "4      3/28/2018   6:00:00 AM  Union Heights       4                     102   \n",
       "...          ...          ...            ...     ...                     ...   \n",
       "28127   1/7/2018  11:00:00 PM   State Street       4                     109   \n",
       "28128  3/11/2018  11:00:00 PM   State Street       4                     110   \n",
       "28129  3/17/2018  11:00:00 PM  Union Heights       1                     103   \n",
       "28130  4/15/2018  11:00:00 PM  Union Heights       2                     111   \n",
       "28131  3/10/2018  11:00:00 PM  Union Heights       4                     111   \n",
       "\n",
       "          Employee Name    Item  Price  \n",
       "0          Lebron James     Fry   0.99  \n",
       "1            Alec Pizza     Fry   0.99  \n",
       "2            Alec Pizza   Shake   1.99  \n",
       "3      Sheera Grayskull     Fry   0.99  \n",
       "4            Alec Pizza   Shake   1.99  \n",
       "...                 ...     ...    ...  \n",
       "28127       Mr. Peabody   Shake   1.99  \n",
       "28128  Mrs. Fancy Pants   Shake   1.99  \n",
       "28129        Alex Jones  Burger   2.79  \n",
       "28130        Hulk Hogan     Fry   0.99  \n",
       "28131        Hulk Hogan   Shake   1.99  \n",
       "\n",
       "[28132 rows x 8 columns]"
      ]
     },
     "execution_count": 158,
     "metadata": {},
     "output_type": "execute_result"
    }
   ],
   "source": [
    "sales_data = pd.read_csv('C:\\\\Users\\\\Hazrat\\\\OneDrive\\\\Documents\\\\burgers_shakeland.csv')\n",
    "sales_data"
   ]
  },
  {
   "cell_type": "markdown",
   "metadata": {},
   "source": [
    "###### - Dataset has 28,132 rows and 8 columns \n",
    "######  - The Dataset does not have any missing values"
   ]
  },
  {
   "cell_type": "code",
   "execution_count": 162,
   "metadata": {},
   "outputs": [
    {
     "data": {
      "text/plain": [
       "Date                      False\n",
       "Time                      False\n",
       "Location                  False\n",
       "ItemID                    False\n",
       "Transaction EmployeeID    False\n",
       "Employee Name             False\n",
       "Item                      False\n",
       "Price                     False\n",
       "dtype: bool"
      ]
     },
     "execution_count": 162,
     "metadata": {},
     "output_type": "execute_result"
    }
   ],
   "source": [
    "sales_data.isnull().any()"
   ]
  },
  {
   "cell_type": "markdown",
   "metadata": {},
   "source": [
    "### TASK 2. Will start analysing the data by using histogram, barplots and timeseries to get more Insight of the dataset "
   ]
  },
  {
   "cell_type": "markdown",
   "metadata": {},
   "source": [
    "###### The 1st histogram below shows that Item # 4 (Shake) is more popular. \n",
    "##### The second histogram is showing that item which cost 1.99 sells more in quanity, wich is a Shake.\n",
    "#####  The third histogram is shwoing that employee with Transaction ID 108, 110 are selling more items."
   ]
  },
  {
   "cell_type": "code",
   "execution_count": 163,
   "metadata": {},
   "outputs": [
    {
     "data": {
      "text/plain": [
       "array([[<matplotlib.axes._subplots.AxesSubplot object at 0x000001EE68C57B50>,\n",
       "        <matplotlib.axes._subplots.AxesSubplot object at 0x000001EE68C90610>],\n",
       "       [<matplotlib.axes._subplots.AxesSubplot object at 0x000001EE68DD9CD0>,\n",
       "        <matplotlib.axes._subplots.AxesSubplot object at 0x000001EE68E0E4C0>]],\n",
       "      dtype=object)"
      ]
     },
     "execution_count": 163,
     "metadata": {},
     "output_type": "execute_result"
    },
    {
     "data": {
      "image/png": "[encoded data removed]",
      "text/plain": [
       "<Figure size 720x720 with 4 Axes>"
      ]
     },
     "metadata": {
      "needs_background": "light"
     },
     "output_type": "display_data"
    }
   ],
   "source": [
    "sales_data.hist(bins = 30, figsize = (10,10), color = 'r')"
   ]
  },
  {
   "cell_type": "markdown",
   "metadata": {},
   "source": [
    "##### The Bar Chart below is showing that Burger is the most expensive item followed by shake and fry. "
   ]
  },
  {
   "cell_type": "code",
   "execution_count": 164,
   "metadata": {},
   "outputs": [
    {
     "data": {
      "text/plain": [
       "<matplotlib.axes._subplots.AxesSubplot at 0x1ee68f5ed60>"
      ]
     },
     "execution_count": 164,
     "metadata": {},
     "output_type": "execute_result"
    },
    {
     "data": {
      "image/png": "[encoded data removed]",
      "text/plain": [
       "<Figure size 360x720 with 1 Axes>"
      ]
     },
     "metadata": {
      "needs_background": "light"
     },
     "output_type": "display_data"
    }
   ],
   "source": [
    "plt.figure(figsize = [5,10])\n",
    "\n",
    "plt.subplot(211)\n",
    "sns.barplot(x = 'Item', y = 'Price', data = sales_data)"
   ]
  },
  {
   "cell_type": "code",
   "execution_count": 176,
   "metadata": {},
   "outputs": [
    {
     "data": {
      "text/html": [
       "<div>\n",
       "<style scoped>\n",
       "    .dataframe tbody tr th:only-of-type {\n",
       "        vertical-align: middle;\n",
       "    }\n",
       "\n",
       "    .dataframe tbody tr th {\n",
       "        vertical-align: top;\n",
       "    }\n",
       "\n",
       "    .dataframe thead th {\n",
       "        text-align: right;\n",
       "    }\n",
       "</style>\n",
       "<table border=\"1\" class=\"dataframe\">\n",
       "  <thead>\n",
       "    <tr style=\"text-align: right;\">\n",
       "      <th></th>\n",
       "      <th>Date</th>\n",
       "      <th>Time</th>\n",
       "      <th>Location</th>\n",
       "      <th>ItemID</th>\n",
       "      <th>Transaction EmployeeID</th>\n",
       "      <th>Employee Name</th>\n",
       "      <th>Item</th>\n",
       "      <th>Sale</th>\n",
       "    </tr>\n",
       "  </thead>\n",
       "  <tbody>\n",
       "    <tr>\n",
       "      <th>0</th>\n",
       "      <td>1/17/2018</td>\n",
       "      <td>6:00:00 AM</td>\n",
       "      <td>Union Heights</td>\n",
       "      <td>2</td>\n",
       "      <td>101</td>\n",
       "      <td>Lebron James</td>\n",
       "      <td>Fry</td>\n",
       "      <td>0.99</td>\n",
       "    </tr>\n",
       "    <tr>\n",
       "      <th>1</th>\n",
       "      <td>4/6/2018</td>\n",
       "      <td>6:00:00 AM</td>\n",
       "      <td>Union Heights</td>\n",
       "      <td>2</td>\n",
       "      <td>102</td>\n",
       "      <td>Alec Pizza</td>\n",
       "      <td>Fry</td>\n",
       "      <td>0.99</td>\n",
       "    </tr>\n",
       "    <tr>\n",
       "      <th>2</th>\n",
       "      <td>1/30/2018</td>\n",
       "      <td>6:00:00 AM</td>\n",
       "      <td>Union Heights</td>\n",
       "      <td>4</td>\n",
       "      <td>102</td>\n",
       "      <td>Alec Pizza</td>\n",
       "      <td>Shake</td>\n",
       "      <td>1.99</td>\n",
       "    </tr>\n",
       "    <tr>\n",
       "      <th>3</th>\n",
       "      <td>4/10/2018</td>\n",
       "      <td>6:00:00 AM</td>\n",
       "      <td>State Street</td>\n",
       "      <td>2</td>\n",
       "      <td>106</td>\n",
       "      <td>Sheera Grayskull</td>\n",
       "      <td>Fry</td>\n",
       "      <td>0.99</td>\n",
       "    </tr>\n",
       "    <tr>\n",
       "      <th>4</th>\n",
       "      <td>3/28/2018</td>\n",
       "      <td>6:00:00 AM</td>\n",
       "      <td>Union Heights</td>\n",
       "      <td>4</td>\n",
       "      <td>102</td>\n",
       "      <td>Alec Pizza</td>\n",
       "      <td>Shake</td>\n",
       "      <td>1.99</td>\n",
       "    </tr>\n",
       "  </tbody>\n",
       "</table>\n",
       "</div>"
      ],
      "text/plain": [
       "        Date        Time       Location  ItemID  Transaction EmployeeID  \\\n",
       "0  1/17/2018  6:00:00 AM  Union Heights       2                     101   \n",
       "1   4/6/2018  6:00:00 AM  Union Heights       2                     102   \n",
       "2  1/30/2018  6:00:00 AM  Union Heights       4                     102   \n",
       "3  4/10/2018  6:00:00 AM   State Street       2                     106   \n",
       "4  3/28/2018  6:00:00 AM  Union Heights       4                     102   \n",
       "\n",
       "      Employee Name   Item  Sale  \n",
       "0      Lebron James    Fry  0.99  \n",
       "1        Alec Pizza    Fry  0.99  \n",
       "2        Alec Pizza  Shake  1.99  \n",
       "3  Sheera Grayskull    Fry  0.99  \n",
       "4        Alec Pizza  Shake  1.99  "
      ]
     },
     "execution_count": 176,
     "metadata": {},
     "output_type": "execute_result"
    }
   ],
   "source": [
    "#changling the PRICE column to Sale for convinience. \n",
    "df = sales_data.rename(columns = {'Price': 'Sale'})\n",
    "df.head(5)"
   ]
  },
  {
   "cell_type": "markdown",
   "metadata": {},
   "source": [
    "###### We can see below that about 40% of the sales are Shakes followed by Burgers "
   ]
  },
  {
   "cell_type": "code",
   "execution_count": 167,
   "metadata": {},
   "outputs": [
    {
     "data": {
      "text/plain": [
       "(28132, 8)"
      ]
     },
     "execution_count": 167,
     "metadata": {},
     "output_type": "execute_result"
    }
   ],
   "source": [
    "df.shape"
   ]
  },
  {
   "cell_type": "code",
   "execution_count": 168,
   "metadata": {},
   "outputs": [
    {
     "data": {
      "text/plain": [
       "Shake     0.391227\n",
       "Burger    0.306804\n",
       "Fry       0.249822\n",
       "Drink     0.052147\n",
       "Name: Item, dtype: float64"
      ]
     },
     "execution_count": 168,
     "metadata": {},
     "output_type": "execute_result"
    }
   ],
   "source": [
    "item_percentage = df.Item.value_counts()/28132\n",
    "item_percentage"
   ]
  },
  {
   "cell_type": "markdown",
   "metadata": {},
   "source": [
    "###### The below barchart is also showing the same percentage for all 4 items. We know from the dataset that Item 1 is Burger, 2 is Fry, 3 is Drink and item 4 is the Shake."
   ]
  },
  {
   "cell_type": "code",
   "execution_count": 169,
   "metadata": {},
   "outputs": [
    {
     "data": {
      "text/plain": [
       "[Text(0, 0.5, 'Percent')]"
      ]
     },
     "execution_count": 169,
     "metadata": {},
     "output_type": "execute_result"
    },
    {
     "data": {
      "image/png": "[encoded data removed]",
      "text/plain": [
       "<Figure size 432x288 with 1 Axes>"
      ]
     },
     "metadata": {
      "needs_background": "light"
     },
     "output_type": "display_data"
    }
   ],
   "source": [
    "ax = sns.barplot( x = \"ItemID\", y = \"ItemID\", data = df, estimator=lambda x: len(x) / len(df) * 100)\n",
    "ax.set(ylabel=\"Percent\")"
   ]
  },
  {
   "cell_type": "markdown",
   "metadata": {},
   "source": [
    "###### Grouping by location and found that State Street makes more revenue."
   ]
  },
  {
   "cell_type": "code",
   "execution_count": 171,
   "metadata": {},
   "outputs": [
    {
     "data": {
      "text/html": [
       "<div>\n",
       "<style scoped>\n",
       "    .dataframe tbody tr th:only-of-type {\n",
       "        vertical-align: middle;\n",
       "    }\n",
       "\n",
       "    .dataframe tbody tr th {\n",
       "        vertical-align: top;\n",
       "    }\n",
       "\n",
       "    .dataframe thead th {\n",
       "        text-align: right;\n",
       "    }\n",
       "</style>\n",
       "<table border=\"1\" class=\"dataframe\">\n",
       "  <thead>\n",
       "    <tr style=\"text-align: right;\">\n",
       "      <th></th>\n",
       "      <th>ItemID</th>\n",
       "      <th>Transaction EmployeeID</th>\n",
       "      <th>Sale</th>\n",
       "    </tr>\n",
       "    <tr>\n",
       "      <th>Location</th>\n",
       "      <th></th>\n",
       "      <th></th>\n",
       "      <th></th>\n",
       "    </tr>\n",
       "  </thead>\n",
       "  <tbody>\n",
       "    <tr>\n",
       "      <th>State Street</th>\n",
       "      <td>40773</td>\n",
       "      <td>1753572</td>\n",
       "      <td>31398.78</td>\n",
       "    </tr>\n",
       "    <tr>\n",
       "      <th>Union Heights</th>\n",
       "      <td>30339</td>\n",
       "      <td>1235048</td>\n",
       "      <td>22993.70</td>\n",
       "    </tr>\n",
       "  </tbody>\n",
       "</table>\n",
       "</div>"
      ],
      "text/plain": [
       "               ItemID  Transaction EmployeeID      Sale\n",
       "Location                                               \n",
       "State Street    40773                 1753572  31398.78\n",
       "Union Heights   30339                 1235048  22993.70"
      ]
     },
     "execution_count": 171,
     "metadata": {},
     "output_type": "execute_result"
    }
   ],
   "source": [
    "Location_Sale = df.groupby(\"Location\")\n",
    "Location_Sale.sum()"
   ]
  },
  {
   "cell_type": "markdown",
   "metadata": {},
   "source": [
    "###### Grouping by Transaction EmployeeID we can see below that State Street has more transactions as well. "
   ]
  },
  {
   "cell_type": "code",
   "execution_count": 172,
   "metadata": {},
   "outputs": [
    {
     "data": {
      "text/plain": [
       "Location       Transaction EmployeeID\n",
       "State Street   108                       4972\n",
       "               110                       3449\n",
       "               109                       3391\n",
       "               107                       2247\n",
       "               106                       2143\n",
       "Union Heights  103                       3436\n",
       "               102                       2699\n",
       "               104                       2061\n",
       "               101                       1872\n",
       "               111                        656\n",
       "               105                        610\n",
       "               110                        596\n",
       "Name: Transaction EmployeeID, dtype: int64"
      ]
     },
     "execution_count": 172,
     "metadata": {},
     "output_type": "execute_result"
    }
   ],
   "source": [
    "Location_Trans = df.groupby(\"Location\")[\"Transaction EmployeeID\"].value_counts()\n",
    "Location_Trans"
   ]
  },
  {
   "cell_type": "markdown",
   "metadata": {},
   "source": [
    "###### Let's separate the year, day and month and put it into a separate column"
   ]
  },
  {
   "cell_type": "code",
   "execution_count": 173,
   "metadata": {},
   "outputs": [
    {
     "data": {
      "text/html": [
       "<div>\n",
       "<style scoped>\n",
       "    .dataframe tbody tr th:only-of-type {\n",
       "        vertical-align: middle;\n",
       "    }\n",
       "\n",
       "    .dataframe tbody tr th {\n",
       "        vertical-align: top;\n",
       "    }\n",
       "\n",
       "    .dataframe thead th {\n",
       "        text-align: right;\n",
       "    }\n",
       "</style>\n",
       "<table border=\"1\" class=\"dataframe\">\n",
       "  <thead>\n",
       "    <tr style=\"text-align: right;\">\n",
       "      <th></th>\n",
       "      <th>Date</th>\n",
       "      <th>Time</th>\n",
       "      <th>Location</th>\n",
       "      <th>ItemID</th>\n",
       "      <th>Transaction EmployeeID</th>\n",
       "      <th>Employee Name</th>\n",
       "      <th>Item</th>\n",
       "      <th>Sale</th>\n",
       "      <th>Year</th>\n",
       "      <th>Month</th>\n",
       "      <th>Day</th>\n",
       "    </tr>\n",
       "  </thead>\n",
       "  <tbody>\n",
       "    <tr>\n",
       "      <th>0</th>\n",
       "      <td>1/17/2018</td>\n",
       "      <td>6:00:00 AM</td>\n",
       "      <td>Union Heights</td>\n",
       "      <td>2</td>\n",
       "      <td>101</td>\n",
       "      <td>Lebron James</td>\n",
       "      <td>Fry</td>\n",
       "      <td>0.99</td>\n",
       "      <td>2018</td>\n",
       "      <td>1</td>\n",
       "      <td>17</td>\n",
       "    </tr>\n",
       "    <tr>\n",
       "      <th>1</th>\n",
       "      <td>4/6/2018</td>\n",
       "      <td>6:00:00 AM</td>\n",
       "      <td>Union Heights</td>\n",
       "      <td>2</td>\n",
       "      <td>102</td>\n",
       "      <td>Alec Pizza</td>\n",
       "      <td>Fry</td>\n",
       "      <td>0.99</td>\n",
       "      <td>2018</td>\n",
       "      <td>4</td>\n",
       "      <td>6</td>\n",
       "    </tr>\n",
       "    <tr>\n",
       "      <th>2</th>\n",
       "      <td>1/30/2018</td>\n",
       "      <td>6:00:00 AM</td>\n",
       "      <td>Union Heights</td>\n",
       "      <td>4</td>\n",
       "      <td>102</td>\n",
       "      <td>Alec Pizza</td>\n",
       "      <td>Shake</td>\n",
       "      <td>1.99</td>\n",
       "      <td>2018</td>\n",
       "      <td>1</td>\n",
       "      <td>30</td>\n",
       "    </tr>\n",
       "    <tr>\n",
       "      <th>3</th>\n",
       "      <td>4/10/2018</td>\n",
       "      <td>6:00:00 AM</td>\n",
       "      <td>State Street</td>\n",
       "      <td>2</td>\n",
       "      <td>106</td>\n",
       "      <td>Sheera Grayskull</td>\n",
       "      <td>Fry</td>\n",
       "      <td>0.99</td>\n",
       "      <td>2018</td>\n",
       "      <td>4</td>\n",
       "      <td>10</td>\n",
       "    </tr>\n",
       "    <tr>\n",
       "      <th>4</th>\n",
       "      <td>3/28/2018</td>\n",
       "      <td>6:00:00 AM</td>\n",
       "      <td>Union Heights</td>\n",
       "      <td>4</td>\n",
       "      <td>102</td>\n",
       "      <td>Alec Pizza</td>\n",
       "      <td>Shake</td>\n",
       "      <td>1.99</td>\n",
       "      <td>2018</td>\n",
       "      <td>3</td>\n",
       "      <td>28</td>\n",
       "    </tr>\n",
       "  </tbody>\n",
       "</table>\n",
       "</div>"
      ],
      "text/plain": [
       "        Date        Time       Location  ItemID  Transaction EmployeeID  \\\n",
       "0  1/17/2018  6:00:00 AM  Union Heights       2                     101   \n",
       "1   4/6/2018  6:00:00 AM  Union Heights       2                     102   \n",
       "2  1/30/2018  6:00:00 AM  Union Heights       4                     102   \n",
       "3  4/10/2018  6:00:00 AM   State Street       2                     106   \n",
       "4  3/28/2018  6:00:00 AM  Union Heights       4                     102   \n",
       "\n",
       "      Employee Name   Item  Sale  Year  Month  Day  \n",
       "0      Lebron James    Fry  0.99  2018      1   17  \n",
       "1        Alec Pizza    Fry  0.99  2018      4    6  \n",
       "2        Alec Pizza  Shake  1.99  2018      1   30  \n",
       "3  Sheera Grayskull    Fry  0.99  2018      4   10  \n",
       "4        Alec Pizza  Shake  1.99  2018      3   28  "
      ]
     },
     "execution_count": 173,
     "metadata": {},
     "output_type": "execute_result"
    }
   ],
   "source": [
    "df[\"Year\"] = pd.DatetimeIndex(df[\"Date\"]).year\n",
    "df[\"Month\"] = pd.DatetimeIndex(df[\"Date\"]).month\n",
    "df[\"Day\"] = pd.DatetimeIndex(df[\"Date\"]).day\n",
    "df.head(5)"
   ]
  },
  {
   "cell_type": "markdown",
   "metadata": {},
   "source": [
    "###### Let's take a look at the average sales per month and day from the charts below.\n",
    "##### 'Groupby' works great by grouping all the data that share the same month column, then obtain the mean of the sales column  \n",
    "##### It looks like sales peak is around February and March. As for the days, we can see that the peak is around 14, 23 and 29th of days. "
   ]
  },
  {
   "cell_type": "code",
   "execution_count": 175,
   "metadata": {},
   "outputs": [
    {
     "data": {
      "text/plain": [
       "Text(0.5, 1.0, 'Average Sales Per Day')"
      ]
     },
     "execution_count": 175,
     "metadata": {},
     "output_type": "execute_result"
    },
    {
     "data": {
      "image/png": "[encoded data removed]",
      "text/plain": [
       "<Figure size 720x360 with 1 Axes>"
      ]
     },
     "metadata": {
      "needs_background": "light"
     },
     "output_type": "display_data"
    },
    {
     "data": {
      "text/plain": [
       "<Figure size 432x288 with 0 Axes>"
      ]
     },
     "metadata": {},
     "output_type": "display_data"
    },
    {
     "data": {
      "image/png": "[encoded data removed]",
      "text/plain": [
       "<Figure size 720x360 with 1 Axes>"
      ]
     },
     "metadata": {
      "needs_background": "light"
     },
     "output_type": "display_data"
    }
   ],
   "source": [
    "axis = df.groupby(\"Month\")[[\"Sale\"]].mean().plot(figsize = (10,5), marker = 'o', color = 'r' )\n",
    "axis.set_title(\"Average Sales Per Month\")\n",
    "\n",
    "plt.figure()\n",
    "axis = df.groupby(\"Day\")[[\"Sale\"]].mean().plot(figsize = (10,5), marker = 'o', color = 'b' )\n",
    "axis.set_title(\"Average Sales Per Day\")"
   ]
  },
  {
   "cell_type": "markdown",
   "metadata": {},
   "source": [
    "###### The below grouping is showing that employee Charles Shwaybuck with Transaction Employee ID 108 has the highest transactions followed by Alex Jones and Mrs. Fancy Pants which could tell that they are possibly working more hours. "
   ]
  },
  {
   "cell_type": "code",
   "execution_count": 145,
   "metadata": {},
   "outputs": [
    {
     "name": "stdout",
     "output_type": "stream",
     "text": [
      "Employee Name      Location       Transaction EmployeeID\n",
      "Alec Pizza         Union Heights  102                       2699\n",
      "Alex Jones         Union Heights  103                       3436\n",
      "Charles Shwaybuck  State Street   108                       4972\n",
      "Hulk Hogan         Union Heights  111                        656\n",
      "Jeralyn Peterson   State Street   107                       2247\n",
      "John Wayne         Union Heights  104                       2061\n",
      "Lebron James       Union Heights  101                       1872\n",
      "Mr. Peabody        State Street   109                       3391\n",
      "Mrs. Fancy Pants   State Street   110                       3449\n",
      "                   Union Heights  110                        596\n",
      "Sheera Grayskull   State Street   106                       2143\n",
      "Stacy Smith        Union Heights  105                        610\n",
      "Name: Transaction EmployeeID, dtype: int64\n"
     ]
    }
   ],
   "source": [
    "grp = df.groupby([\"Employee Name\", \"Location\"])[\"Transaction EmployeeID\"].value_counts()\n",
    "print(grp)"
   ]
  },
  {
   "cell_type": "markdown",
   "metadata": {},
   "source": [
    "### TASK 3. CONCLUSION, INSIGHTS AND WHAT I COULD DO DIFFERENTLY. "
   ]
  },
  {
   "cell_type": "markdown",
   "metadata": {},
   "source": [
    "- SHAKES ARE THE MOST POLULAR ITEMS AND MAKES 40% THE SALE\n",
    "-  STATESTREET IS THE BUSIEST LOCATION AND BRINGS MORE REVENUE. \n",
    "- APRIL AND MARCH ARE THE PEAK MONTH FOR SALE. \n",
    "- THE BUSIEST DAYS ARE AROUND 23RD AND 29TH.\n",
    "- EMPLOYEES WITH TRANSACTION ID # 108, 103 and 110 MOST LIKELY WORK MORE HOURS. \n",
    "- ALTHOUGH I COULD NOT FIND THE RIGHT CODE TO FIND THE NUMBER OF COMBOS SALES IN APRIL,  MORE RESEARCH AND TIME WOULD HELP ME TO FIND IT BY USING EXCELL VLOOKUP FUNCTIONS OR SQL FILTERING.    "
   ]
  }
 ],
 "metadata": {
  "kernelspec": {
   "display_name": "Python 3",
   "language": "python",
   "name": "python3"
  },
  "language_info": {
   "codemirror_mode": {
    "name": "ipython",
    "version": 3
   },
   "file_extension": ".py",
   "mimetype": "text/x-python",
   "name": "python",
   "nbconvert_exporter": "python",
   "pygments_lexer": "ipython3",
   "version": "3.8.3"
  }
 },
 "nbformat": 4,
 "nbformat_minor": 4
}
